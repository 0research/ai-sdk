{
 "cells": [
  {
   "cell_type": "code",
   "execution_count": 1,
   "id": "c0957234-ba57-4199-adfa-9d17ede0b8f9",
   "metadata": {},
   "outputs": [
    {
     "data": {
      "application/vnd.jupyter.widget-view+json": {
       "model_id": "35516e816dd34950ab7de18df904b140",
       "version_major": 2,
       "version_minor": 0
      },
      "text/plain": [
       "MitoWidget(analysis_data_json='{\"analysisName\": \"UUID-f1237cc4-6b42-4c9b-a823-2eb4b129d45b\", \"code\": {\"imports…"
      ]
     },
     "metadata": {},
     "output_type": "display_data"
    }
   ],
   "source": [
    "# Run this cell to render a mitosheet\n",
    "# See mito's documentation here: https://docs.trymito.io/how-to/creating-a-mitosheet\n",
    "# Join our Discord for support here: https://discord.gg/XdJSZyejJU\n",
    "\n",
    "import mitosheet\n",
    "mitosheet.sheet()"
   ]
  },
  {
   "cell_type": "code",
   "execution_count": 11,
   "id": "df645142-947b-4dc6-ae4e-26f08e39f1bb",
   "metadata": {},
   "outputs": [],
   "source": [
    "from mitosheet import *; register_analysis('UUID-f1237cc4-6b42-4c9b-a823-2eb4b129d45b')\n",
    "    \n",
    "# Imported C:\\0research\\Project\\ai-sdk\\datasets\\Caste.csv\n",
    "import pandas as pd\n",
    "Caste = pd.read_csv(r'C:\\0research\\Project\\ai-sdk\\datasets\\Caste.csv')\n",
    "\n",
    "# Imported C:\\0research\\Project\\ai-sdk\\datasets\\sample.csv\n",
    "import pandas as pd\n",
    "sample = pd.read_csv(r'C:\\0research\\Project\\ai-sdk\\datasets\\sample.csv')\n",
    "\n",
    "# Drop duplicates in sample\n",
    "sample = sample.drop_duplicates(keep='first')\n"
   ]
  },
  {
   "cell_type": "code",
   "execution_count": null,
   "id": "207de3cf-042c-4096-96e8-ed2fc215c16e",
   "metadata": {},
   "outputs": [],
   "source": []
  }
 ],
 "metadata": {
  "kernelspec": {
   "display_name": "Python 3 (ipykernel)",
   "language": "python",
   "name": "python3"
  },
  "language_info": {
   "codemirror_mode": {
    "name": "ipython",
    "version": 3
   },
   "file_extension": ".py",
   "mimetype": "text/x-python",
   "name": "python",
   "nbconvert_exporter": "python",
   "pygments_lexer": "ipython3",
   "version": "3.7.4"
  },
  "widgets": {
   "application/vnd.jupyter.widget-state+json": {
    "state": {},
    "version_major": 2,
    "version_minor": 0
   }
  }
 },
 "nbformat": 4,
 "nbformat_minor": 5
}
